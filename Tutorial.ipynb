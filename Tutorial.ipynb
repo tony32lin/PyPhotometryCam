{
 "cells": [
  {
   "cell_type": "markdown",
   "metadata": {},
   "source": [
    "# Quick tutorial for PyPhotometryCam\n",
    "\n",
    "## I haven't finished the install script yet. So, for now just add the directory to your python path."
   ]
  },
  {
   "cell_type": "code",
   "execution_count": 121,
   "metadata": {
    "ExecuteTime": {
     "end_time": "2018-05-23T15:30:38.802750",
     "start_time": "2018-05-23T15:30:38.695269"
    },
    "collapsed": false
   },
   "outputs": [],
   "source": [
    "import sys\n",
    "sys.path.append('/Users/tony/Desktop/NightlyPhotometry/PyPhotometryCam')\n",
    "import seaborn as sns\n",
    "sns.set_context('poster')"
   ]
  },
  {
   "cell_type": "code",
   "execution_count": 67,
   "metadata": {
    "ExecuteTime": {
     "end_time": "2018-05-23T13:29:30.056547",
     "start_time": "2018-05-23T13:29:29.564857"
    },
    "collapsed": false
   },
   "outputs": [],
   "source": [
    "from PyPhotometryCam.imageAnalyzer import imageAnalyzer,timeSeriesAnalyzer\n",
    "from PyPhotometryCam.utils.calib import loadFlatfieldHist \n"
   ]
  },
  {
   "cell_type": "markdown",
   "metadata": {},
   "source": [
    "# Load flat field image as numpy array and stored into a nested dictionary\n",
    "\n"
   ]
  },
  {
   "cell_type": "code",
   "execution_count": 4,
   "metadata": {
    "ExecuteTime": {
     "end_time": "2018-05-23T09:53:01.403196",
     "start_time": "2018-05-23T09:52:57.137470"
    },
    "collapsed": true
   },
   "outputs": [],
   "source": [
    "# Put flat filed image in a ditctionary indexed by filter id (1 to 4)\n",
    "filter_dict = {3:loadFlatfieldHist('./FlatfieldData/FlatfieldSept2016/flatfield-t1/FlatfieldT1F3.root')}\n",
    "# And put that dictionary into another dictionary indexed by telescope id (1 to 4)\n",
    "ff_dict ={1:filter_dict}\n",
    "# The internal of imageAnalyzer uses ff_dict[telid][filterid] to find the correct flatfiled image\n"
   ]
  },
  {
   "cell_type": "markdown",
   "metadata": {},
   "source": [
    "# Analyze a single image\n",
    "## The analyze function returns a DataFrame with the fit result of every star specified by the astrometry search."
   ]
  },
  {
   "cell_type": "code",
   "execution_count": 5,
   "metadata": {
    "ExecuteTime": {
     "end_time": "2018-05-23T09:53:08.518410",
     "start_time": "2018-05-23T09:53:03.859404"
    },
    "collapsed": true
   },
   "outputs": [],
   "source": [
    "# Initiate an image analyzer\n",
    "# The star_list_dir is where the astrometry output is stored\n",
    "# ff_dict is the dictionary for the flatfield image\n",
    "ana = imageAnalyzer(star_list_dir='./StarCoordinates/',flat_field_dict=ff_dict)"
   ]
  },
  {
   "cell_type": "code",
   "execution_count": 101,
   "metadata": {
    "ExecuteTime": {
     "end_time": "2018-05-23T14:49:32.817572",
     "start_time": "2018-05-23T14:49:24.861992"
    },
    "collapsed": false,
    "scrolled": false
   },
   "outputs": [],
   "source": [
    "# Analyze a single image and save good fit result into report name test.pdf\n",
    "criteria = '(Chi2 < 2 ) & (Size >0 ) & (Size/SizeErr > 2.0 ) & (Width < 2.5)'\n",
    "df_result = ana.analyze('./PhotometryCam/photometry_images_t1/T1_F3_050518_225200.fits',\n",
    "                        output_pdf='example.pdf',print_criteria=criteria)                    "
   ]
  },
  {
   "cell_type": "code",
   "execution_count": 119,
   "metadata": {
    "ExecuteTime": {
     "end_time": "2018-05-23T15:26:52.630950",
     "start_time": "2018-05-23T15:26:52.514077"
    },
    "collapsed": false
   },
   "outputs": [
    {
     "data": {
      "text/html": [
       "<div>\n",
       "<style scoped>\n",
       "    .dataframe tbody tr th:only-of-type {\n",
       "        vertical-align: middle;\n",
       "    }\n",
       "\n",
       "    .dataframe tbody tr th {\n",
       "        vertical-align: top;\n",
       "    }\n",
       "\n",
       "    .dataframe thead th {\n",
       "        text-align: right;\n",
       "    }\n",
       "</style>\n",
       "<table border=\"1\" class=\"dataframe\">\n",
       "  <thead>\n",
       "    <tr style=\"text-align: right;\">\n",
       "      <th></th>\n",
       "      <th>DEC</th>\n",
       "      <th>FLUX_B</th>\n",
       "      <th>FLUX_V</th>\n",
       "      <th>RA</th>\n",
       "      <th>name</th>\n",
       "      <th>xpos</th>\n",
       "      <th>ypos</th>\n",
       "      <th>Exposure</th>\n",
       "      <th>CCDTEMP</th>\n",
       "      <th>EL</th>\n",
       "      <th>...</th>\n",
       "      <th>BaseLineErr</th>\n",
       "      <th>Chi2</th>\n",
       "      <th>FitAxis</th>\n",
       "      <th>FitPosX</th>\n",
       "      <th>FitPosXErr</th>\n",
       "      <th>Size</th>\n",
       "      <th>SizeErr</th>\n",
       "      <th>Width</th>\n",
       "      <th>WidthErr</th>\n",
       "      <th>Time</th>\n",
       "    </tr>\n",
       "  </thead>\n",
       "  <tbody>\n",
       "    <tr>\n",
       "      <th>0</th>\n",
       "      <td>4.416434</td>\n",
       "      <td>8.82</td>\n",
       "      <td>7.28</td>\n",
       "      <td>187.587551</td>\n",
       "      <td>V* BK Vir</td>\n",
       "      <td>578</td>\n",
       "      <td>76</td>\n",
       "      <td>10.0</td>\n",
       "      <td>6.641518</td>\n",
       "      <td>59.903993</td>\n",
       "      <td>...</td>\n",
       "      <td>8.810345</td>\n",
       "      <td>1.223797</td>\n",
       "      <td>0</td>\n",
       "      <td>10.138117</td>\n",
       "      <td>0.225565</td>\n",
       "      <td>1113.249757</td>\n",
       "      <td>216.371630</td>\n",
       "      <td>2.350831</td>\n",
       "      <td>0.351358</td>\n",
       "      <td>2018-05-05 22:52:00</td>\n",
       "    </tr>\n",
       "    <tr>\n",
       "      <th>1</th>\n",
       "      <td>4.854936</td>\n",
       "      <td>9.11</td>\n",
       "      <td>7.74</td>\n",
       "      <td>185.562597</td>\n",
       "      <td>V* KO Vir</td>\n",
       "      <td>678</td>\n",
       "      <td>90</td>\n",
       "      <td>10.0</td>\n",
       "      <td>6.641518</td>\n",
       "      <td>59.458124</td>\n",
       "      <td>...</td>\n",
       "      <td>8.646352</td>\n",
       "      <td>1.819342</td>\n",
       "      <td>1</td>\n",
       "      <td>9.616872</td>\n",
       "      <td>0.170088</td>\n",
       "      <td>1223.304240</td>\n",
       "      <td>205.860098</td>\n",
       "      <td>2.011990</td>\n",
       "      <td>0.257304</td>\n",
       "      <td>2018-05-05 22:52:00</td>\n",
       "    </tr>\n",
       "    <tr>\n",
       "      <th>2</th>\n",
       "      <td>3.312572</td>\n",
       "      <td>6.12</td>\n",
       "      <td>4.96</td>\n",
       "      <td>185.087422</td>\n",
       "      <td>* c Vir</td>\n",
       "      <td>674</td>\n",
       "      <td>169</td>\n",
       "      <td>10.0</td>\n",
       "      <td>6.641518</td>\n",
       "      <td>57.864553</td>\n",
       "      <td>...</td>\n",
       "      <td>9.180810</td>\n",
       "      <td>11.347142</td>\n",
       "      <td>1</td>\n",
       "      <td>9.746453</td>\n",
       "      <td>0.020048</td>\n",
       "      <td>21026.899773</td>\n",
       "      <td>350.995665</td>\n",
       "      <td>2.422917</td>\n",
       "      <td>0.027594</td>\n",
       "      <td>2018-05-05 22:52:00</td>\n",
       "    </tr>\n",
       "    <tr>\n",
       "      <th>3</th>\n",
       "      <td>-2.429562</td>\n",
       "      <td>8.49</td>\n",
       "      <td>6.90</td>\n",
       "      <td>187.290378</td>\n",
       "      <td>V* FZ Vir</td>\n",
       "      <td>474</td>\n",
       "      <td>393</td>\n",
       "      <td>10.0</td>\n",
       "      <td>6.641518</td>\n",
       "      <td>53.416771</td>\n",
       "      <td>...</td>\n",
       "      <td>7.897600</td>\n",
       "      <td>1.698099</td>\n",
       "      <td>0</td>\n",
       "      <td>9.964824</td>\n",
       "      <td>0.085651</td>\n",
       "      <td>2499.985230</td>\n",
       "      <td>207.119425</td>\n",
       "      <td>2.101134</td>\n",
       "      <td>0.129819</td>\n",
       "      <td>2018-05-05 22:52:00</td>\n",
       "    </tr>\n",
       "    <tr>\n",
       "      <th>4</th>\n",
       "      <td>0.769700</td>\n",
       "      <td>10.79</td>\n",
       "      <td>6.60</td>\n",
       "      <td>186.309979</td>\n",
       "      <td>V* SS Vir</td>\n",
       "      <td>574</td>\n",
       "      <td>264</td>\n",
       "      <td>10.0</td>\n",
       "      <td>6.641518</td>\n",
       "      <td>56.047634</td>\n",
       "      <td>...</td>\n",
       "      <td>10.806602</td>\n",
       "      <td>1.609629</td>\n",
       "      <td>0</td>\n",
       "      <td>9.325019</td>\n",
       "      <td>0.592252</td>\n",
       "      <td>724.359176</td>\n",
       "      <td>272.002062</td>\n",
       "      <td>3.535931</td>\n",
       "      <td>1.058742</td>\n",
       "      <td>2018-05-05 22:52:00</td>\n",
       "    </tr>\n",
       "  </tbody>\n",
       "</table>\n",
       "<p>5 rows × 22 columns</p>\n",
       "</div>"
      ],
      "text/plain": [
       "        DEC  FLUX_B  FLUX_V          RA       name  xpos  ypos  Exposure  \\\n",
       "0  4.416434    8.82    7.28  187.587551  V* BK Vir   578    76      10.0   \n",
       "1  4.854936    9.11    7.74  185.562597  V* KO Vir   678    90      10.0   \n",
       "2  3.312572    6.12    4.96  185.087422    * c Vir   674   169      10.0   \n",
       "3 -2.429562    8.49    6.90  187.290378  V* FZ Vir   474   393      10.0   \n",
       "4  0.769700   10.79    6.60  186.309979  V* SS Vir   574   264      10.0   \n",
       "\n",
       "    CCDTEMP         EL         ...          BaseLineErr       Chi2  FitAxis  \\\n",
       "0  6.641518  59.903993         ...             8.810345   1.223797        0   \n",
       "1  6.641518  59.458124         ...             8.646352   1.819342        1   \n",
       "2  6.641518  57.864553         ...             9.180810  11.347142        1   \n",
       "3  6.641518  53.416771         ...             7.897600   1.698099        0   \n",
       "4  6.641518  56.047634         ...            10.806602   1.609629        0   \n",
       "\n",
       "     FitPosX  FitPosXErr          Size     SizeErr     Width  WidthErr  \\\n",
       "0  10.138117    0.225565   1113.249757  216.371630  2.350831  0.351358   \n",
       "1   9.616872    0.170088   1223.304240  205.860098  2.011990  0.257304   \n",
       "2   9.746453    0.020048  21026.899773  350.995665  2.422917  0.027594   \n",
       "3   9.964824    0.085651   2499.985230  207.119425  2.101134  0.129819   \n",
       "4   9.325019    0.592252    724.359176  272.002062  3.535931  1.058742   \n",
       "\n",
       "                 Time  \n",
       "0 2018-05-05 22:52:00  \n",
       "1 2018-05-05 22:52:00  \n",
       "2 2018-05-05 22:52:00  \n",
       "3 2018-05-05 22:52:00  \n",
       "4 2018-05-05 22:52:00  \n",
       "\n",
       "[5 rows x 22 columns]"
      ]
     },
     "execution_count": 119,
     "metadata": {},
     "output_type": "execute_result"
    }
   ],
   "source": [
    "df_result.head()"
   ]
  },
  {
   "cell_type": "markdown",
   "metadata": {},
   "source": [
    "# Analyze a series of images"
   ]
  },
  {
   "cell_type": "code",
   "execution_count": 117,
   "metadata": {
    "ExecuteTime": {
     "end_time": "2018-05-23T15:26:26.667294",
     "start_time": "2018-05-23T15:26:26.583406"
    },
    "collapsed": false
   },
   "outputs": [
    {
     "data": {
      "text/plain": [
       "array(['./PhotometryCam/photometry_images_t1/T1_F3_050518_225200.fits',\n",
       "       './PhotometryCam/photometry_images_t1/T1_F3_050518_225800.fits',\n",
       "       './PhotometryCam/photometry_images_t1/T1_F3_050518_231500.fits',\n",
       "       './PhotometryCam/photometry_images_t1/T1_F3_050518_231600.fits',\n",
       "       './PhotometryCam/photometry_images_t1/T1_F3_050518_232000.fits',\n",
       "       './PhotometryCam/photometry_images_t1/T1_F3_050518_232500.fits',\n",
       "       './PhotometryCam/photometry_images_t1/T1_F3_050518_233000.fits',\n",
       "       './PhotometryCam/photometry_images_t1/T1_F3_050518_233500.fits',\n",
       "       './PhotometryCam/photometry_images_t1/T1_F3_050518_234000.fits',\n",
       "       './PhotometryCam/photometry_images_t1/T1_F3_050518_234500.fits',\n",
       "       './PhotometryCam/photometry_images_t1/T1_F3_050518_235000.fits',\n",
       "       './PhotometryCam/photometry_images_t1/T1_F3_050518_235500.fits',\n",
       "       './PhotometryCam/photometry_images_t1/T1_F3_050518_235900.fits',\n",
       "       './PhotometryCam/photometry_images_t1/T1_F3_060518_000000.fits',\n",
       "       './PhotometryCam/photometry_images_t1/T1_F3_060518_000400.fits',\n",
       "       './PhotometryCam/photometry_images_t1/T1_F3_060518_000500.fits',\n",
       "       './PhotometryCam/photometry_images_t1/T1_F3_060518_001000.fits',\n",
       "       './PhotometryCam/photometry_images_t1/T1_F3_060518_001500.fits',\n",
       "       './PhotometryCam/photometry_images_t1/T1_F3_060518_002000.fits',\n",
       "       './PhotometryCam/photometry_images_t1/T1_F3_060518_002400.fits',\n",
       "       './PhotometryCam/photometry_images_t1/T1_F3_060518_002900.fits',\n",
       "       './PhotometryCam/photometry_images_t1/T1_F3_060518_003400.fits',\n",
       "       './PhotometryCam/photometry_images_t1/T1_F3_060518_003900.fits',\n",
       "       './PhotometryCam/photometry_images_t1/T1_F3_060518_004400.fits',\n",
       "       './PhotometryCam/photometry_images_t1/T1_F3_060518_004900.fits',\n",
       "       './PhotometryCam/photometry_images_t1/T1_F3_060518_005400.fits',\n",
       "       './PhotometryCam/photometry_images_t1/T1_F3_060518_005900.fits',\n",
       "       './PhotometryCam/photometry_images_t1/T1_F3_060518_010400.fits',\n",
       "       './PhotometryCam/photometry_images_t1/T1_F3_060518_010900.fits',\n",
       "       './PhotometryCam/photometry_images_t1/T1_F3_060518_011400.fits',\n",
       "       './PhotometryCam/photometry_images_t1/T1_F3_060518_011800.fits'],\n",
       "      dtype='<U61')"
      ]
     },
     "execution_count": 117,
     "metadata": {},
     "output_type": "execute_result"
    }
   ],
   "source": [
    "# Prepare a list of image files\n",
    "runlist_F3"
   ]
  },
  {
   "cell_type": "markdown",
   "metadata": {},
   "source": [
    "# Initialize a timeSeriesAnalyzer"
   ]
  },
  {
   "cell_type": "code",
   "execution_count": 68,
   "metadata": {
    "ExecuteTime": {
     "end_time": "2018-05-23T13:29:35.588950",
     "start_time": "2018-05-23T13:29:35.516310"
    },
    "collapsed": true
   },
   "outputs": [],
   "source": [
    "# Initiate an time series analyzer\n",
    "# The star_list_dir is where the astrometry output is stored\n",
    "# ff_dict is the dictionary for the flatfield image\n",
    "ts = timeSeriesAnalyzer(star_list_dir='./StarCoordinates/',flat_field_dict=ff_dict)"
   ]
  },
  {
   "cell_type": "code",
   "execution_count": 123,
   "metadata": {
    "ExecuteTime": {
     "end_time": "2018-05-23T15:35:11.916152",
     "start_time": "2018-05-23T15:31:55.630841"
    },
    "collapsed": false
   },
   "outputs": [
    {
     "name": "stderr",
     "output_type": "stream",
     "text": [
      "./PhotometryCam/photometry_images_t1/T1_F3_050518_231500.fits does not have astrometry analysis result !\n",
      "./PhotometryCam/photometry_images_t1/T1_F3_050518_235900.fits does not have astrometry analysis result !\n",
      "./PhotometryCam/photometry_images_t1/T1_F3_060518_000400.fits does not have astrometry analysis result !\n",
      "./PhotometryCam/photometry_images_t1/T1_F3_060518_011800.fits does not have astrometry analysis result !\n"
     ]
    }
   ],
   "source": [
    "# The reports of single images into the folder run_pdf_dir\n",
    "ts.analyze(runlist_F3,run_pdf_dir='./test')"
   ]
  },
  {
   "cell_type": "markdown",
   "metadata": {},
   "source": [
    "# The throughput is defined as \n",
    "\n",
    "## $M_{B} + \\frac{5}{2} log_{10} (\\frac{Signal}{T_{exposure}})$\n",
    "\n",
    "## where $M_{B}$ is the blue magnitude and Signal is the digital count given by the camera $T_{exposure}$ is the exposure time.\n",
    "## The rational behind this definition is that we can write down the relationship between the detected signal and the flux of the star ($F_{B}$) as  \n",
    "\n",
    "## $F_{B} e^{-\\tau/cos(\\theta_{zenith})}= A \\frac{Signal}{T_{exposure}}  $ \n",
    "## $10^{-2/5\\times M_{B}} \\sim F_{B}  $\n",
    "## where A is the conversion factor from digital counts to energy/photon. $\\tau$ is the optical depth of the atmosphere.\n",
    "\n",
    "## Taking $log_{10}$ on both side we get:\n",
    "## $ M_{B} = -\\frac{5}{2} log_{10} (A) -\\frac{5}{2} log_{10} (\\frac{Signal}{T_{exposure}}) - \\frac{5 log_{10}(e)}{2}\\tau/cos(\\theta_{zenith}) -C_{0}$\n",
    "## $C_0$ come from the proportional constant between $F_{B}$ and $10^{-2/5\\times M_{B}} $\n",
    "## Since A and $C_0$ are constants we can define the weather condition as \n",
    "## $M_{B} + \\frac{5}{2} log_{10} (\\frac{Signal}{T_{exposure}}) = -\\frac{5}{2} log_{10} (A) -\\frac{5 log_{10}(e)}{2}\\tau/cos(\\theta_{zenith}) -C_{0}$ which is controlled by the optical depth of the atmosphere. While there is suppose to be a zenith angle dependency, the effect seems to be smaller than our systematics at this point ( see the individual image report, one can see that the zenith angle dependency can't) so we'll ignore that \n"
   ]
  },
  {
   "cell_type": "code",
   "execution_count": 124,
   "metadata": {
    "ExecuteTime": {
     "end_time": "2018-05-23T15:48:33.388106",
     "start_time": "2018-05-23T15:48:32.758992"
    },
    "collapsed": true
   },
   "outputs": [],
   "source": [
    "# Get time series of the throughput and result of all the stars\n",
    "ts_r,all_star = ts.get_results()"
   ]
  },
  {
   "cell_type": "code",
   "execution_count": 122,
   "metadata": {
    "ExecuteTime": {
     "end_time": "2018-05-23T15:30:45.879966",
     "start_time": "2018-05-23T15:30:43.642813"
    },
    "collapsed": false
   },
   "outputs": [
    {
     "data": {
      "image/png": "[encoded data removed]",
      "text/plain": [
       "<matplotlib.figure.Figure at 0x1a43ca2470>"
      ]
     },
     "metadata": {},
     "output_type": "display_data"
    },
    {
     "data": {
      "image/png": "[encoded data removed]",
      "text/plain": [
       "<matplotlib.figure.Figure at 0x1a4acbdeb8>"
      ]
     },
     "metadata": {},
     "output_type": "display_data"
    },
    {
     "data": {
      "image/png": "[encoded data removed]",
      "text/plain": [
       "<matplotlib.figure.Figure at 0x1a36c9c9b0>"
      ]
     },
     "metadata": {},
     "output_type": "display_data"
    }
   ],
   "source": [
    "ts.show_result()"
   ]
  },
  {
   "cell_type": "markdown",
   "metadata": {},
   "source": [
    "# Throughput from each picture"
   ]
  },
  {
   "cell_type": "code",
   "execution_count": 125,
   "metadata": {
    "ExecuteTime": {
     "end_time": "2018-05-23T15:48:56.776854",
     "start_time": "2018-05-23T15:48:56.659910"
    },
    "collapsed": false
   },
   "outputs": [
    {
     "data": {
      "text/html": [
       "<div>\n",
       "<style scoped>\n",
       "    .dataframe tbody tr th:only-of-type {\n",
       "        vertical-align: middle;\n",
       "    }\n",
       "\n",
       "    .dataframe tbody tr th {\n",
       "        vertical-align: top;\n",
       "    }\n",
       "\n",
       "    .dataframe thead th {\n",
       "        text-align: right;\n",
       "    }\n",
       "</style>\n",
       "<table border=\"1\" class=\"dataframe\">\n",
       "  <thead>\n",
       "    <tr style=\"text-align: right;\">\n",
       "      <th></th>\n",
       "      <th>Exposure</th>\n",
       "      <th>Time</th>\n",
       "      <th>oneOverCos</th>\n",
       "      <th>oneOverCosErr</th>\n",
       "      <th>throughput</th>\n",
       "      <th>throughputErr</th>\n",
       "    </tr>\n",
       "  </thead>\n",
       "  <tbody>\n",
       "    <tr>\n",
       "      <th>0</th>\n",
       "      <td>10.0</td>\n",
       "      <td>2018-05-05 22:52:00</td>\n",
       "      <td>1.192789</td>\n",
       "      <td>0.010509</td>\n",
       "      <td>14.412889</td>\n",
       "      <td>0.028947</td>\n",
       "    </tr>\n",
       "    <tr>\n",
       "      <th>1</th>\n",
       "      <td>10.0</td>\n",
       "      <td>2018-05-05 22:58:00</td>\n",
       "      <td>1.193410</td>\n",
       "      <td>0.011164</td>\n",
       "      <td>14.275238</td>\n",
       "      <td>0.023753</td>\n",
       "    </tr>\n",
       "    <tr>\n",
       "      <th>2</th>\n",
       "      <td>10.0</td>\n",
       "      <td>2018-05-05 23:16:00</td>\n",
       "      <td>1.411210</td>\n",
       "      <td>0.017863</td>\n",
       "      <td>14.393389</td>\n",
       "      <td>0.034076</td>\n",
       "    </tr>\n",
       "    <tr>\n",
       "      <th>3</th>\n",
       "      <td>10.0</td>\n",
       "      <td>2018-05-05 23:20:00</td>\n",
       "      <td>1.418020</td>\n",
       "      <td>0.015893</td>\n",
       "      <td>14.279305</td>\n",
       "      <td>0.043274</td>\n",
       "    </tr>\n",
       "    <tr>\n",
       "      <th>4</th>\n",
       "      <td>10.0</td>\n",
       "      <td>2018-05-05 23:25:00</td>\n",
       "      <td>1.278696</td>\n",
       "      <td>0.014239</td>\n",
       "      <td>14.362725</td>\n",
       "      <td>0.031596</td>\n",
       "    </tr>\n",
       "  </tbody>\n",
       "</table>\n",
       "</div>"
      ],
      "text/plain": [
       "   Exposure                Time  oneOverCos  oneOverCosErr  throughput  \\\n",
       "0      10.0 2018-05-05 22:52:00    1.192789       0.010509   14.412889   \n",
       "1      10.0 2018-05-05 22:58:00    1.193410       0.011164   14.275238   \n",
       "2      10.0 2018-05-05 23:16:00    1.411210       0.017863   14.393389   \n",
       "3      10.0 2018-05-05 23:20:00    1.418020       0.015893   14.279305   \n",
       "4      10.0 2018-05-05 23:25:00    1.278696       0.014239   14.362725   \n",
       "\n",
       "   throughputErr  \n",
       "0       0.028947  \n",
       "1       0.023753  \n",
       "2       0.034076  \n",
       "3       0.043274  \n",
       "4       0.031596  "
      ]
     },
     "execution_count": 125,
     "metadata": {},
     "output_type": "execute_result"
    }
   ],
   "source": [
    "ts_r.head()"
   ]
  },
  {
   "cell_type": "markdown",
   "metadata": {},
   "source": [
    "# All stars (pass quality cuts)"
   ]
  },
  {
   "cell_type": "code",
   "execution_count": 126,
   "metadata": {
    "ExecuteTime": {
     "end_time": "2018-05-23T15:49:04.803051",
     "start_time": "2018-05-23T15:49:04.676479"
    },
    "collapsed": false
   },
   "outputs": [
    {
     "data": {
      "text/html": [
       "<div>\n",
       "<style scoped>\n",
       "    .dataframe tbody tr th:only-of-type {\n",
       "        vertical-align: middle;\n",
       "    }\n",
       "\n",
       "    .dataframe tbody tr th {\n",
       "        vertical-align: top;\n",
       "    }\n",
       "\n",
       "    .dataframe thead th {\n",
       "        text-align: right;\n",
       "    }\n",
       "</style>\n",
       "<table border=\"1\" class=\"dataframe\">\n",
       "  <thead>\n",
       "    <tr style=\"text-align: right;\">\n",
       "      <th></th>\n",
       "      <th>DEC</th>\n",
       "      <th>FLUX_B</th>\n",
       "      <th>FLUX_V</th>\n",
       "      <th>RA</th>\n",
       "      <th>name</th>\n",
       "      <th>xpos</th>\n",
       "      <th>ypos</th>\n",
       "      <th>Exposure</th>\n",
       "      <th>CCDTEMP</th>\n",
       "      <th>EL</th>\n",
       "      <th>...</th>\n",
       "      <th>Chi2</th>\n",
       "      <th>FitAxis</th>\n",
       "      <th>FitPosX</th>\n",
       "      <th>FitPosXErr</th>\n",
       "      <th>Size</th>\n",
       "      <th>SizeErr</th>\n",
       "      <th>Width</th>\n",
       "      <th>WidthErr</th>\n",
       "      <th>Time</th>\n",
       "      <th>PID</th>\n",
       "    </tr>\n",
       "  </thead>\n",
       "  <tbody>\n",
       "    <tr>\n",
       "      <th>0</th>\n",
       "      <td>4.416434</td>\n",
       "      <td>8.82</td>\n",
       "      <td>7.28</td>\n",
       "      <td>187.587551</td>\n",
       "      <td>V* BK Vir</td>\n",
       "      <td>578</td>\n",
       "      <td>76</td>\n",
       "      <td>10.0</td>\n",
       "      <td>6.641518</td>\n",
       "      <td>59.903993</td>\n",
       "      <td>...</td>\n",
       "      <td>1.223797</td>\n",
       "      <td>0</td>\n",
       "      <td>10.138117</td>\n",
       "      <td>0.225565</td>\n",
       "      <td>1113.249757</td>\n",
       "      <td>216.371630</td>\n",
       "      <td>2.350831</td>\n",
       "      <td>0.351358</td>\n",
       "      <td>2018-05-05 22:52:00</td>\n",
       "      <td>0</td>\n",
       "    </tr>\n",
       "    <tr>\n",
       "      <th>1</th>\n",
       "      <td>4.854936</td>\n",
       "      <td>9.11</td>\n",
       "      <td>7.74</td>\n",
       "      <td>185.562597</td>\n",
       "      <td>V* KO Vir</td>\n",
       "      <td>678</td>\n",
       "      <td>90</td>\n",
       "      <td>10.0</td>\n",
       "      <td>6.641518</td>\n",
       "      <td>59.458124</td>\n",
       "      <td>...</td>\n",
       "      <td>1.819342</td>\n",
       "      <td>1</td>\n",
       "      <td>9.616872</td>\n",
       "      <td>0.170088</td>\n",
       "      <td>1223.304240</td>\n",
       "      <td>205.860098</td>\n",
       "      <td>2.011990</td>\n",
       "      <td>0.257304</td>\n",
       "      <td>2018-05-05 22:52:00</td>\n",
       "      <td>0</td>\n",
       "    </tr>\n",
       "    <tr>\n",
       "      <th>3</th>\n",
       "      <td>-2.429562</td>\n",
       "      <td>8.49</td>\n",
       "      <td>6.90</td>\n",
       "      <td>187.290378</td>\n",
       "      <td>V* FZ Vir</td>\n",
       "      <td>474</td>\n",
       "      <td>393</td>\n",
       "      <td>10.0</td>\n",
       "      <td>6.641518</td>\n",
       "      <td>53.416771</td>\n",
       "      <td>...</td>\n",
       "      <td>1.698099</td>\n",
       "      <td>0</td>\n",
       "      <td>9.964824</td>\n",
       "      <td>0.085651</td>\n",
       "      <td>2499.985230</td>\n",
       "      <td>207.119425</td>\n",
       "      <td>2.101134</td>\n",
       "      <td>0.129819</td>\n",
       "      <td>2018-05-05 22:52:00</td>\n",
       "      <td>0</td>\n",
       "    </tr>\n",
       "    <tr>\n",
       "      <th>5</th>\n",
       "      <td>0.193788</td>\n",
       "      <td>8.86</td>\n",
       "      <td>7.62</td>\n",
       "      <td>182.855832</td>\n",
       "      <td>HD 105911</td>\n",
       "      <td>722</td>\n",
       "      <td>350</td>\n",
       "      <td>10.0</td>\n",
       "      <td>6.641518</td>\n",
       "      <td>54.079815</td>\n",
       "      <td>...</td>\n",
       "      <td>1.566422</td>\n",
       "      <td>0</td>\n",
       "      <td>9.651789</td>\n",
       "      <td>0.144788</td>\n",
       "      <td>1982.379108</td>\n",
       "      <td>237.290029</td>\n",
       "      <td>2.472933</td>\n",
       "      <td>0.226589</td>\n",
       "      <td>2018-05-05 22:52:00</td>\n",
       "      <td>0</td>\n",
       "    </tr>\n",
       "    <tr>\n",
       "      <th>6</th>\n",
       "      <td>5.971564</td>\n",
       "      <td>9.29</td>\n",
       "      <td>7.73</td>\n",
       "      <td>186.047897</td>\n",
       "      <td>V* FK Vir</td>\n",
       "      <td>676</td>\n",
       "      <td>31</td>\n",
       "      <td>10.0</td>\n",
       "      <td>6.641518</td>\n",
       "      <td>60.673155</td>\n",
       "      <td>...</td>\n",
       "      <td>1.898875</td>\n",
       "      <td>1</td>\n",
       "      <td>9.225561</td>\n",
       "      <td>0.154553</td>\n",
       "      <td>1176.314465</td>\n",
       "      <td>198.690061</td>\n",
       "      <td>1.799342</td>\n",
       "      <td>0.230611</td>\n",
       "      <td>2018-05-05 22:52:00</td>\n",
       "      <td>0</td>\n",
       "    </tr>\n",
       "  </tbody>\n",
       "</table>\n",
       "<p>5 rows × 23 columns</p>\n",
       "</div>"
      ],
      "text/plain": [
       "        DEC  FLUX_B  FLUX_V          RA       name  xpos  ypos  Exposure  \\\n",
       "0  4.416434    8.82    7.28  187.587551  V* BK Vir   578    76      10.0   \n",
       "1  4.854936    9.11    7.74  185.562597  V* KO Vir   678    90      10.0   \n",
       "3 -2.429562    8.49    6.90  187.290378  V* FZ Vir   474   393      10.0   \n",
       "5  0.193788    8.86    7.62  182.855832  HD 105911   722   350      10.0   \n",
       "6  5.971564    9.29    7.73  186.047897  V* FK Vir   676    31      10.0   \n",
       "\n",
       "    CCDTEMP         EL ...       Chi2  FitAxis    FitPosX  FitPosXErr  \\\n",
       "0  6.641518  59.903993 ...   1.223797        0  10.138117    0.225565   \n",
       "1  6.641518  59.458124 ...   1.819342        1   9.616872    0.170088   \n",
       "3  6.641518  53.416771 ...   1.698099        0   9.964824    0.085651   \n",
       "5  6.641518  54.079815 ...   1.566422        0   9.651789    0.144788   \n",
       "6  6.641518  60.673155 ...   1.898875        1   9.225561    0.154553   \n",
       "\n",
       "          Size     SizeErr     Width  WidthErr                Time  PID  \n",
       "0  1113.249757  216.371630  2.350831  0.351358 2018-05-05 22:52:00    0  \n",
       "1  1223.304240  205.860098  2.011990  0.257304 2018-05-05 22:52:00    0  \n",
       "3  2499.985230  207.119425  2.101134  0.129819 2018-05-05 22:52:00    0  \n",
       "5  1982.379108  237.290029  2.472933  0.226589 2018-05-05 22:52:00    0  \n",
       "6  1176.314465  198.690061  1.799342  0.230611 2018-05-05 22:52:00    0  \n",
       "\n",
       "[5 rows x 23 columns]"
      ]
     },
     "execution_count": 126,
     "metadata": {},
     "output_type": "execute_result"
    }
   ],
   "source": [
    "all_star.head()"
   ]
  },
  {
   "cell_type": "code",
   "execution_count": null,
   "metadata": {
    "collapsed": true
   },
   "outputs": [],
   "source": []
  }
 ],
 "metadata": {
  "hide_input": false,
  "kernelspec": {
   "display_name": "Python [conda root]",
   "language": "python",
   "name": "conda-root-py"
  },
  "language_info": {
   "codemirror_mode": {
    "name": "ipython",
    "version": 3
   },
   "file_extension": ".py",
   "mimetype": "text/x-python",
   "name": "python",
   "nbconvert_exporter": "python",
   "pygments_lexer": "ipython3",
   "version": "3.5.2"
  }
 },
 "nbformat": 4,
 "nbformat_minor": 2
}
